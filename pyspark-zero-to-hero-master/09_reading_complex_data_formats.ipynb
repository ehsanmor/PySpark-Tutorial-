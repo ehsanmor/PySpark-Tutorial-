{
 "cells": [
  {
   "cell_type": "code",
   "execution_count": 1,
   "id": "dbe4fbc4-86d7-41e8-8d59-33cc91c9cf2a",
   "metadata": {},
   "outputs": [
    {
     "data": {
      "text/html": [
       "\n",
       "            <div>\n",
       "                <p><b>SparkSession - in-memory</b></p>\n",
       "                \n",
       "        <div>\n",
       "            <p><b>SparkContext</b></p>\n",
       "\n",
       "            <p><a href=\"http://b96cbc5ef428:4040\">Spark UI</a></p>\n",
       "\n",
       "            <dl>\n",
       "              <dt>Version</dt>\n",
       "                <dd><code>v3.3.0</code></dd>\n",
       "              <dt>Master</dt>\n",
       "                <dd><code>local[*]</code></dd>\n",
       "              <dt>AppName</dt>\n",
       "                <dd><code>Reading Complex Data Formats</code></dd>\n",
       "            </dl>\n",
       "        </div>\n",
       "        \n",
       "            </div>\n",
       "        "
      ],
      "text/plain": [
       "<pyspark.sql.session.SparkSession at 0x7ff94b786f20>"
      ]
     },
     "execution_count": 1,
     "metadata": {},
     "output_type": "execute_result"
    }
   ],
   "source": [
    "# Spark Session\n",
    "from pyspark.sql import SparkSession\n",
    "\n",
    "spark = (\n",
    "    SparkSession\n",
    "    .builder\n",
    "    .appName(\"Reading Complex Data Formats\")\n",
    "    .master(\"local[*]\")\n",
    "    .getOrCreate()\n",
    ")\n",
    "\n",
    "spark"
   ]
  },
  {
   "cell_type": "code",
   "execution_count": 8,
   "id": "0d4cb23b-6797-4129-b528-9d054eac726d",
   "metadata": {},
   "outputs": [],
   "source": [
    "# Read Parquet Sales data\n",
    "\n",
    "df_parquet = spark.read.format(\"parquet\").load(\"data/input/sales_total_parquet/*.parquet\")"
   ]
  },
  {
   "cell_type": "code",
   "execution_count": 9,
   "id": "0fc792ec-0667-4a84-a2da-14b753e54948",
   "metadata": {},
   "outputs": [
    {
     "name": "stdout",
     "output_type": "stream",
     "text": [
      "root\n",
      " |-- transacted_at: timestamp (nullable = true)\n",
      " |-- trx_id: integer (nullable = true)\n",
      " |-- retailer_id: integer (nullable = true)\n",
      " |-- description: string (nullable = true)\n",
      " |-- amount: double (nullable = true)\n",
      " |-- city_id: integer (nullable = true)\n",
      "\n"
     ]
    }
   ],
   "source": [
    "df_parquet.printSchema()"
   ]
  },
  {
   "cell_type": "code",
   "execution_count": 10,
   "id": "5806879c-1845-4c51-9be4-dbdbaf2032fc",
   "metadata": {},
   "outputs": [
    {
     "name": "stdout",
     "output_type": "stream",
     "text": [
      "+-------------------+----------+-----------+--------------------+-------+----------+\n",
      "|      transacted_at|    trx_id|retailer_id|         description| amount|   city_id|\n",
      "+-------------------+----------+-----------+--------------------+-------+----------+\n",
      "|2017-12-27 19:00:00| 330765426|  887300947|Kroger   ccd id: ...|  33.56|2068475652|\n",
      "|2017-11-26 21:00:00|1377679664| 1070485878|Amazon.com    ccd...|  24.43|1640819540|\n",
      "|2017-12-12 23:00:00| 472018705| 2001148981|  unkn      Columbia|   1.24| 481821583|\n",
      "|2017-05-19 19:00:00|1127671830|  847200066|            Wal-Mart|2155.48|2074005445|\n",
      "|2017-11-17 21:00:00| 233137169|  847200066|            Wal-Mart|   4.13|2043825401|\n",
      "|2017-12-15 12:00:00| 603124844|  887300947|Kroger   ccd id: ...|  31.92|1640819540|\n",
      "|2017-11-08 12:00:00|1591888712|  143327090|  Menard       11-08|   42.3|2043825401|\n",
      "|2017-12-23 12:00:00|1775468459|  887300947|Kroger  arc id: 1...|  284.8|2055198208|\n",
      "|2017-09-01 13:00:00|1020833609| 2120842315|Burger King   ccd...|   20.2|1141716004|\n",
      "|2017-11-30 12:00:00|1714628652| 1898522855|Target    ppd id:...| 488.42| 569532635|\n",
      "|2017-11-26 23:00:00|1533320464|   62988535|Bed Bath & Beyond...|    6.1|1098014353|\n",
      "|2017-11-28 21:00:00|2057742958|  562903918|McDonald's     pp...|2051.68|1487857621|\n",
      "|2017-01-25 19:00:00| 123604891|  847200066|Wal-Mart    ccd i...|  23.53|  45522086|\n",
      "|2017-05-21 21:00:00|1660120794|  865681996|Nordstrom     arc...| 708.81|  28424447|\n",
      "|2017-12-18 22:00:00|1882911667|  997626433|Sears        Anka...| 160.29|1698762556|\n",
      "|2017-11-24 20:00:00| 734317675|  511877722|Best Buy    arc i...| 1104.7|2001708947|\n",
      "|2017-12-21 18:00:00| 513313448|  887300947|unkn    arc id: 9...|   32.7|2023698313|\n",
      "|2017-12-13 19:00:00|1380128813|  582210968|unkn     ppd id: ...|  19.88|1359730291|\n",
      "|2017-11-15 20:00:00| 941860469|  887300947|Kroger     arc id...|  55.69|  31398417|\n",
      "|2017-12-06 23:00:00|1957163946|  400404203|unkn   arc id: 97...|   9.24|1284771958|\n",
      "+-------------------+----------+-----------+--------------------+-------+----------+\n",
      "only showing top 20 rows\n",
      "\n"
     ]
    }
   ],
   "source": [
    "df_parquet.show()"
   ]
  },
  {
   "cell_type": "code",
   "execution_count": 11,
   "id": "9c030cca-3fb1-4d7d-b921-c075f26696a6",
   "metadata": {},
   "outputs": [],
   "source": [
    "# Read ORC Sales data\n",
    "\n",
    "df_orc = spark.read.format(\"orc\").load(\"data/input/sales_total_orc/*.orc\")"
   ]
  },
  {
   "cell_type": "code",
   "execution_count": 12,
   "id": "4560e1ed-25d0-4b75-9749-8b7d8f66245d",
   "metadata": {},
   "outputs": [
    {
     "name": "stdout",
     "output_type": "stream",
     "text": [
      "root\n",
      " |-- transacted_at: timestamp (nullable = true)\n",
      " |-- trx_id: integer (nullable = true)\n",
      " |-- retailer_id: integer (nullable = true)\n",
      " |-- description: string (nullable = true)\n",
      " |-- amount: double (nullable = true)\n",
      " |-- city_id: integer (nullable = true)\n",
      "\n"
     ]
    }
   ],
   "source": [
    "df_orc.printSchema()"
   ]
  },
  {
   "cell_type": "code",
   "execution_count": 13,
   "id": "929c68f5-6688-4525-ba11-586f2a13c5bf",
   "metadata": {},
   "outputs": [
    {
     "name": "stdout",
     "output_type": "stream",
     "text": [
      "+-------------------+----------+-----------+--------------------+-------+----------+\n",
      "|      transacted_at|    trx_id|retailer_id|         description| amount|   city_id|\n",
      "+-------------------+----------+-----------+--------------------+-------+----------+\n",
      "|2017-12-27 19:00:00| 330765426|  887300947|Kroger   ccd id: ...|  33.56|2068475652|\n",
      "|2017-11-26 21:00:00|1377679664| 1070485878|Amazon.com    ccd...|  24.43|1640819540|\n",
      "|2017-12-12 23:00:00| 472018705| 2001148981|  unkn      Columbia|   1.24| 481821583|\n",
      "|2017-05-19 19:00:00|1127671830|  847200066|            Wal-Mart|2155.48|2074005445|\n",
      "|2017-11-17 21:00:00| 233137169|  847200066|            Wal-Mart|   4.13|2043825401|\n",
      "|2017-12-15 12:00:00| 603124844|  887300947|Kroger   ccd id: ...|  31.92|1640819540|\n",
      "|2017-11-08 12:00:00|1591888712|  143327090|  Menard       11-08|   42.3|2043825401|\n",
      "|2017-12-23 12:00:00|1775468459|  887300947|Kroger  arc id: 1...|  284.8|2055198208|\n",
      "|2017-09-01 13:00:00|1020833609| 2120842315|Burger King   ccd...|   20.2|1141716004|\n",
      "|2017-11-30 12:00:00|1714628652| 1898522855|Target    ppd id:...| 488.42| 569532635|\n",
      "|2017-11-26 23:00:00|1533320464|   62988535|Bed Bath & Beyond...|    6.1|1098014353|\n",
      "|2017-11-28 21:00:00|2057742958|  562903918|McDonald's     pp...|2051.68|1487857621|\n",
      "|2017-01-25 19:00:00| 123604891|  847200066|Wal-Mart    ccd i...|  23.53|  45522086|\n",
      "|2017-05-21 21:00:00|1660120794|  865681996|Nordstrom     arc...| 708.81|  28424447|\n",
      "|2017-12-18 22:00:00|1882911667|  997626433|Sears        Anka...| 160.29|1698762556|\n",
      "|2017-11-24 20:00:00| 734317675|  511877722|Best Buy    arc i...| 1104.7|2001708947|\n",
      "|2017-12-21 18:00:00| 513313448|  887300947|unkn    arc id: 9...|   32.7|2023698313|\n",
      "|2017-12-13 19:00:00|1380128813|  582210968|unkn     ppd id: ...|  19.88|1359730291|\n",
      "|2017-11-15 20:00:00| 941860469|  887300947|Kroger     arc id...|  55.69|  31398417|\n",
      "|2017-12-06 23:00:00|1957163946|  400404203|unkn   arc id: 97...|   9.24|1284771958|\n",
      "+-------------------+----------+-----------+--------------------+-------+----------+\n",
      "only showing top 20 rows\n",
      "\n"
     ]
    }
   ],
   "source": [
    "df_orc.show()"
   ]
  },
  {
   "cell_type": "code",
   "execution_count": 15,
   "id": "d6fed4fc-7a15-427b-abc6-be320b2ee2b9",
   "metadata": {},
   "outputs": [],
   "source": [
    "# Benefits of Columnar Storage\n",
    "\n",
    "# Lets create a simple Python decorator - {get_time} to get the execution timings\n",
    "# If you dont know about Python decorators - check out : https://www.geeksforgeeks.org/decorators-in-python/\n",
    "import time\n",
    "\n",
    "def get_time(func):\n",
    "    def inner_get_time() -> str:\n",
    "        start_time = time.time()\n",
    "        func()\n",
    "        end_time = time.time()\n",
    "        return (f\"Execution time: {(end_time - start_time)*1000} ms\")\n",
    "    print(inner_get_time())"
   ]
  },
  {
   "cell_type": "code",
   "execution_count": 16,
   "id": "ce5ab3ee-1c16-4360-bfb5-9a26acbf2635",
   "metadata": {},
   "outputs": [
    {
     "name": "stdout",
     "output_type": "stream",
     "text": [
      "Execution time: 672.5492477416992 ms\n"
     ]
    }
   ],
   "source": [
    "@get_time\n",
    "def x():\n",
    "    df = spark.read.format(\"parquet\").load(\"data/input/sales_data.parquet\")\n",
    "    df.count()"
   ]
  },
  {
   "cell_type": "code",
   "execution_count": 17,
   "id": "37f3c804-033e-4d72-aa40-5df96fa03642",
   "metadata": {},
   "outputs": [
    {
     "name": "stdout",
     "output_type": "stream",
     "text": [
      "Execution time: 348.848819732666 ms\n"
     ]
    }
   ],
   "source": [
    "@get_time\n",
    "def x():\n",
    "    df = spark.read.format(\"parquet\").load(\"data/input/sales_data.parquet\")\n",
    "    df.select(\"trx_id\").count()"
   ]
  },
  {
   "cell_type": "code",
   "execution_count": null,
   "id": "9c0b99f7-a30c-401f-a5fa-9f45f98ecedc",
   "metadata": {},
   "outputs": [],
   "source": []
  },
  {
   "cell_type": "code",
   "execution_count": null,
   "id": "c0baad72-a380-416d-96b4-d8d85834294e",
   "metadata": {},
   "outputs": [],
   "source": [
    "# BONUS TIP\n",
    "# RECURSIVE READ\n",
    "\n",
    "sales_recursive\n",
    "|__ sales_1\\1.parquet\n",
    "|__ sales_1\\sales_2\\2.parquet\n",
    "\n"
   ]
  },
  {
   "cell_type": "code",
   "execution_count": 18,
   "id": "21e5e859-b04f-4030-a1fc-ba35f4ab6a10",
   "metadata": {},
   "outputs": [
    {
     "name": "stdout",
     "output_type": "stream",
     "text": [
      "+-------------------+----------+-----------+--------------------+------+---------+\n",
      "|      transacted_at|    trx_id|retailer_id|         description|amount|  city_id|\n",
      "+-------------------+----------+-----------+--------------------+------+---------+\n",
      "|2017-11-24 19:00:00|1734117021|  644879053|unkn    ppd id: 7...|  8.58|930259917|\n",
      "+-------------------+----------+-----------+--------------------+------+---------+\n",
      "\n"
     ]
    }
   ],
   "source": [
    "df_1 = spark.read.format(\"parquet\").load(\"data/input/sales_recursive/sales_1/1.parquet\")\n",
    "df_1.show()"
   ]
  },
  {
   "cell_type": "code",
   "execution_count": 19,
   "id": "d50b2043-d55c-4b02-91cb-842fe9439935",
   "metadata": {},
   "outputs": [
    {
     "name": "stdout",
     "output_type": "stream",
     "text": [
      "+-------------------+----------+-----------+--------------------+------+--------+\n",
      "|      transacted_at|    trx_id|retailer_id|         description|amount| city_id|\n",
      "+-------------------+----------+-----------+--------------------+------+--------+\n",
      "|2017-11-24 19:00:00|1734117123| 1953761884|unkn   ppd id: 15...| 19.55|45522086|\n",
      "+-------------------+----------+-----------+--------------------+------+--------+\n",
      "\n"
     ]
    }
   ],
   "source": [
    "df_1 = spark.read.format(\"parquet\").load(\"data/input/sales_recursive/sales_1/sales_2/2.parquet\")\n",
    "df_1.show()"
   ]
  },
  {
   "cell_type": "code",
   "execution_count": 22,
   "id": "b5db0656-7060-432b-ba4e-eea6fa1c7404",
   "metadata": {},
   "outputs": [
    {
     "name": "stdout",
     "output_type": "stream",
     "text": [
      "+-------------------+----------+-----------+--------------------+------+---------+\n",
      "|      transacted_at|    trx_id|retailer_id|         description|amount|  city_id|\n",
      "+-------------------+----------+-----------+--------------------+------+---------+\n",
      "|2017-11-24 19:00:00|1734117123| 1953761884|unkn   ppd id: 15...| 19.55| 45522086|\n",
      "|2017-11-24 19:00:00|1734117021|  644879053|unkn    ppd id: 7...|  8.58|930259917|\n",
      "+-------------------+----------+-----------+--------------------+------+---------+\n",
      "\n"
     ]
    }
   ],
   "source": [
    "df_1 = spark.read.format(\"parquet\").option(\"recursiveFileLookup\", True).load(\"data/input/sales_recursive/\")\n",
    "df_1.show()"
   ]
  },
  {
   "cell_type": "code",
   "execution_count": null,
   "id": "75a75655-eb44-402e-b92a-065796c8b7e0",
   "metadata": {},
   "outputs": [],
   "source": []
  }
 ],
 "metadata": {
  "kernelspec": {
   "display_name": "Python 3 (ipykernel)",
   "language": "python",
   "name": "python3"
  },
  "language_info": {
   "codemirror_mode": {
    "name": "ipython",
    "version": 3
   },
   "file_extension": ".py",
   "mimetype": "text/x-python",
   "name": "python",
   "nbconvert_exporter": "python",
   "pygments_lexer": "ipython3",
   "version": "3.10.9"
  }
 },
 "nbformat": 4,
 "nbformat_minor": 5
}
