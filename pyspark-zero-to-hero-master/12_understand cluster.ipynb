{
 "cells": [
  {
   "cell_type": "code",
   "execution_count": 7,
   "id": "697635e6-acef-4db1-b5f4-2b6f6bde43fa",
   "metadata": {
    "tags": []
   },
   "outputs": [
    {
     "data": {
      "text/html": [
       "\n",
       "            <div>\n",
       "                <p><b>SparkSession - in-memory</b></p>\n",
       "                \n",
       "        <div>\n",
       "            <p><b>SparkContext</b></p>\n",
       "\n",
       "            <p><a href=\"http://4c1cbc3b031c:4040\">Spark UI</a></p>\n",
       "\n",
       "            <dl>\n",
       "              <dt>Version</dt>\n",
       "                <dd><code>v3.3.0</code></dd>\n",
       "              <dt>Master</dt>\n",
       "                <dd><code>spark://17e348267994:7077</code></dd>\n",
       "              <dt>AppName</dt>\n",
       "                <dd><code>Cluster Execution</code></dd>\n",
       "            </dl>\n",
       "        </div>\n",
       "        \n",
       "            </div>\n",
       "        "
      ],
      "text/plain": [
       "<pyspark.sql.session.SparkSession at 0x7f9bc827c450>"
      ]
     },
     "execution_count": 7,
     "metadata": {},
     "output_type": "execute_result"
    }
   ],
   "source": [
    "# Spark Session\n",
    "from pyspark.sql import SparkSession\n",
    "\n",
    "spark = (\n",
    "    SparkSession\n",
    "    .builder\n",
    "    .appName(\"Cluster Execution\")\n",
    "    .master(\"spark://17e348267994:7077\")\n",
    "    .config(\"spark.executor.instances\", 4)\n",
    "    .config(\"spark.executor.cores\", 4)\n",
    "    .config(\"spark.executor.memory\", \"512M\")\n",
    "    .getOrCreate()\n",
    ")\n",
    "\n",
    "spark"
   ]
  },
  {
   "cell_type": "code",
   "execution_count": 8,
   "id": "ab423b20-003c-442f-a663-d2895726dff9",
   "metadata": {
    "tags": []
   },
   "outputs": [],
   "source": [
    "# Create a sample data frame\n",
    "\n",
    "df = spark.range(10)"
   ]
  },
  {
   "cell_type": "code",
   "execution_count": 9,
   "id": "5be86d41-b20f-43f2-a5c3-607d15440507",
   "metadata": {
    "tags": []
   },
   "outputs": [],
   "source": [
    "# Write the data of the data frame\n",
    "\n",
    "df.write.format(\"csv\").option(\"header\", True).save(\"/data/output/15/3/range.csv\")"
   ]
  },
  {
   "cell_type": "code",
   "execution_count": 10,
   "id": "08463ad4-4989-4a53-8a8d-9467800d34ad",
   "metadata": {
    "tags": []
   },
   "outputs": [],
   "source": [
    "# Stop Spark Settion\n",
    "\n",
    "spark.stop()"
   ]
  },
  {
   "cell_type": "code",
   "execution_count": null,
   "id": "dc456c9a-55a5-4791-b8de-1b3be3ae9445",
   "metadata": {},
   "outputs": [],
   "source": []
  }
 ],
 "metadata": {
  "kernelspec": {
   "display_name": "Python 3 (ipykernel)",
   "language": "python",
   "name": "python3"
  },
  "language_info": {
   "codemirror_mode": {
    "name": "ipython",
    "version": 3
   },
   "file_extension": ".py",
   "mimetype": "text/x-python",
   "name": "python",
   "nbconvert_exporter": "python",
   "pygments_lexer": "ipython3",
   "version": "3.7.10"
  }
 },
 "nbformat": 4,
 "nbformat_minor": 5
}
