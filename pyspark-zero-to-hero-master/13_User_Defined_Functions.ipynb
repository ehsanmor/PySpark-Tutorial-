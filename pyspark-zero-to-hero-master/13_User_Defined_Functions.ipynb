{
 "cells": [
  {
   "cell_type": "code",
   "execution_count": 13,
   "id": "35b290be-a351-4bc6-a898-1341f50af784",
   "metadata": {
    "tags": []
   },
   "outputs": [
    {
     "data": {
      "text/html": [
       "\n",
       "            <div>\n",
       "                <p><b>SparkSession - in-memory</b></p>\n",
       "                \n",
       "        <div>\n",
       "            <p><b>SparkContext</b></p>\n",
       "\n",
       "            <p><a href=\"http://4c1cbc3b031c:4040\">Spark UI</a></p>\n",
       "\n",
       "            <dl>\n",
       "              <dt>Version</dt>\n",
       "                <dd><code>v3.3.0</code></dd>\n",
       "              <dt>Master</dt>\n",
       "                <dd><code>spark://17e348267994:7077</code></dd>\n",
       "              <dt>AppName</dt>\n",
       "                <dd><code>User Defined Functions</code></dd>\n",
       "            </dl>\n",
       "        </div>\n",
       "        \n",
       "            </div>\n",
       "        "
      ],
      "text/plain": [
       "<pyspark.sql.session.SparkSession at 0x7f63740cdf90>"
      ]
     },
     "execution_count": 13,
     "metadata": {},
     "output_type": "execute_result"
    }
   ],
   "source": [
    "# Spark Session\n",
    "from pyspark.sql import SparkSession\n",
    "\n",
    "spark = (\n",
    "    SparkSession\n",
    "    .builder\n",
    "    .appName(\"User Defined Functions\")\n",
    "    .master(\"spark://17e348267994:7077\")\n",
    "    .config(\"spark.executor.cores\", 2)\n",
    "    .config(\"spark.cores.max\", 6)\n",
    "    .config(\"spark.executor.memory\", \"512M\")\n",
    "    .getOrCreate()\n",
    ")\n",
    "\n",
    "spark"
   ]
  },
  {
   "cell_type": "code",
   "execution_count": 15,
   "id": "bc4f41a3-f668-4458-a9c3-6753585953c8",
   "metadata": {
    "tags": []
   },
   "outputs": [
    {
     "data": {
      "text/plain": [
       "2"
      ]
     },
     "execution_count": 15,
     "metadata": {},
     "output_type": "execute_result"
    }
   ],
   "source": [
    "# Read employee data\n",
    "\n",
    "emp_schema = \"employee_id string, department_id string, name string, age string, gender string, salary string, hire_date string\"\n",
    "\n",
    "emp = spark.read.format(\"csv\").option(\"header\", True).schema(emp_schema).load(\"/data/output/3/emp.csv\")\n",
    "\n",
    "emp.rdd.getNumPartitions()"
   ]
  },
  {
   "cell_type": "code",
   "execution_count": 19,
   "id": "7b214d75-5ac5-40e6-ab74-54acf423e698",
   "metadata": {
    "tags": []
   },
   "outputs": [],
   "source": [
    "# Create a function to generate 10% of Salary as Bonus\n",
    "\n",
    "def bonus(salary):\n",
    "    return int(salary) * 0.1"
   ]
  },
  {
   "cell_type": "code",
   "execution_count": 20,
   "id": "e93265aa-5ef4-4362-8a56-5e6ad7b5f3ea",
   "metadata": {
    "tags": []
   },
   "outputs": [
    {
     "data": {
      "text/plain": [
       "<function __main__.bonus(salary)>"
      ]
     },
     "execution_count": 20,
     "metadata": {},
     "output_type": "execute_result"
    }
   ],
   "source": [
    "# Register as UDF\n",
    "from pyspark.sql.functions import udf\n",
    "\n",
    "bonus_udf = udf(bonus)\n",
    "\n",
    "spark.udf.register(\"bonus_sql_udf\", bonus, \"double\")\n"
   ]
  },
  {
   "cell_type": "code",
   "execution_count": 24,
   "id": "3d0c32d9-4220-4a74-9752-34d28e9cde30",
   "metadata": {
    "tags": []
   },
   "outputs": [
    {
     "name": "stdout",
     "output_type": "stream",
     "text": [
      "+-----------+-------------+-------------+---+------+------+----------+------+\n",
      "|employee_id|department_id|         name|age|gender|salary| hire_date| bonus|\n",
      "+-----------+-------------+-------------+---+------+------+----------+------+\n",
      "|        017|          105|  George Wang| 34|  Male| 57000|2016-03-15|5700.0|\n",
      "|        018|          104|    Nancy Liu| 29|Female| 50000|2017-06-01|5000.0|\n",
      "|        019|          103|  Steven Chen| 36|  Male| 62000|2015-08-01|6200.0|\n",
      "|        020|          102|    Grace Kim| 32|Female| 53000|2018-11-01|5300.0|\n",
      "|        007|          101|James Johnson| 42|  Male| 70000|2012-03-15|7000.0|\n",
      "|        008|          102|     Kate Kim| 29|Female| 51000|2019-10-01|5100.0|\n",
      "|        009|          103|      Tom Tan| 33|  Male| 58000|2016-06-01|5800.0|\n",
      "|        010|          104|     Lisa Lee| 27|Female| 47000|2018-08-01|4700.0|\n",
      "|        015|          106|  Michael Lee| 37|  Male| 63000|2014-09-30|6300.0|\n",
      "|        016|          107|  Kelly Zhang| 30|Female| 49000|2018-04-01|4900.0|\n",
      "|        011|          104|   David Park| 38|  Male| 65000|2015-11-01|6500.0|\n",
      "|        012|          105|   Susan Chen| 31|Female| 54000|2017-02-15|5400.0|\n",
      "|        013|          106|    Brian Kim| 45|  Male| 75000|2011-07-01|7500.0|\n",
      "|        014|          107|    Emily Lee| 26|Female| 46000|2019-01-01|4600.0|\n",
      "|        001|          101|     John Doe| 30|  Male| 50000|2015-01-01|5000.0|\n",
      "|        002|          101|   Jane Smith| 25|Female| 45000|2016-02-15|4500.0|\n",
      "|        003|          102|    Bob Brown| 35|  Male| 55000|2014-05-01|5500.0|\n",
      "|        004|          102|    Alice Lee| 28|Female| 48000|2017-09-30|4800.0|\n",
      "|        005|          103|    Jack Chan| 40|  Male| 60000|2013-04-01|6000.0|\n",
      "|        006|          103|    Jill Wong| 32|Female| 52000|2018-07-01|5200.0|\n",
      "+-----------+-------------+-------------+---+------+------+----------+------+\n",
      "\n"
     ]
    }
   ],
   "source": [
    "# Create new column as bonus using UDF\n",
    "from pyspark.sql.functions import expr\n",
    "\n",
    "emp.withColumn(\"bonus\", expr(\"bonus_sql_udf(salary)\")).show()"
   ]
  },
  {
   "cell_type": "code",
   "execution_count": 25,
   "id": "d8d8e6be-7973-4d44-922a-0672143fd511",
   "metadata": {
    "tags": []
   },
   "outputs": [
    {
     "name": "stdout",
     "output_type": "stream",
     "text": [
      "+-----------+-------------+-------------+---+------+------+----------+------+\n",
      "|employee_id|department_id|         name|age|gender|salary| hire_date| bonus|\n",
      "+-----------+-------------+-------------+---+------+------+----------+------+\n",
      "|        017|          105|  George Wang| 34|  Male| 57000|2016-03-15|5700.0|\n",
      "|        018|          104|    Nancy Liu| 29|Female| 50000|2017-06-01|5000.0|\n",
      "|        019|          103|  Steven Chen| 36|  Male| 62000|2015-08-01|6200.0|\n",
      "|        020|          102|    Grace Kim| 32|Female| 53000|2018-11-01|5300.0|\n",
      "|        007|          101|James Johnson| 42|  Male| 70000|2012-03-15|7000.0|\n",
      "|        008|          102|     Kate Kim| 29|Female| 51000|2019-10-01|5100.0|\n",
      "|        009|          103|      Tom Tan| 33|  Male| 58000|2016-06-01|5800.0|\n",
      "|        010|          104|     Lisa Lee| 27|Female| 47000|2018-08-01|4700.0|\n",
      "|        015|          106|  Michael Lee| 37|  Male| 63000|2014-09-30|6300.0|\n",
      "|        016|          107|  Kelly Zhang| 30|Female| 49000|2018-04-01|4900.0|\n",
      "|        011|          104|   David Park| 38|  Male| 65000|2015-11-01|6500.0|\n",
      "|        012|          105|   Susan Chen| 31|Female| 54000|2017-02-15|5400.0|\n",
      "|        013|          106|    Brian Kim| 45|  Male| 75000|2011-07-01|7500.0|\n",
      "|        014|          107|    Emily Lee| 26|Female| 46000|2019-01-01|4600.0|\n",
      "|        001|          101|     John Doe| 30|  Male| 50000|2015-01-01|5000.0|\n",
      "|        002|          101|   Jane Smith| 25|Female| 45000|2016-02-15|4500.0|\n",
      "|        003|          102|    Bob Brown| 35|  Male| 55000|2014-05-01|5500.0|\n",
      "|        004|          102|    Alice Lee| 28|Female| 48000|2017-09-30|4800.0|\n",
      "|        005|          103|    Jack Chan| 40|  Male| 60000|2013-04-01|6000.0|\n",
      "|        006|          103|    Jill Wong| 32|Female| 52000|2018-07-01|5200.0|\n",
      "+-----------+-------------+-------------+---+------+------+----------+------+\n",
      "\n"
     ]
    }
   ],
   "source": [
    "# Create new column as bonus without UDF\n",
    "\n",
    "emp.withColumn(\"bonus\", expr(\"salary * 0.1\")).show()"
   ]
  },
  {
   "cell_type": "code",
   "execution_count": 26,
   "id": "fbc45429-3896-4968-9cb5-e77b004cc1ee",
   "metadata": {
    "tags": []
   },
   "outputs": [],
   "source": [
    "# Stop Spark Session\n",
    "\n",
    "spark.stop()"
   ]
  },
  {
   "cell_type": "code",
   "execution_count": null,
   "id": "fef8c770-1dcd-44cb-b3e8-f0cdad80afca",
   "metadata": {},
   "outputs": [],
   "source": []
  }
 ],
 "metadata": {
  "kernelspec": {
   "display_name": "Python 3 (ipykernel)",
   "language": "python",
   "name": "python3"
  },
  "language_info": {
   "codemirror_mode": {
    "name": "ipython",
    "version": 3
   },
   "file_extension": ".py",
   "mimetype": "text/x-python",
   "name": "python",
   "nbconvert_exporter": "python",
   "pygments_lexer": "ipython3",
   "version": "3.7.10"
  }
 },
 "nbformat": 4,
 "nbformat_minor": 5
}
